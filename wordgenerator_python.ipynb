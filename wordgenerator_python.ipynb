{
 "cells": [
  {
   "cell_type": "markdown",
   "metadata": {},
   "source": [
    "### Packages"
   ]
  },
  {
   "cell_type": "code",
   "execution_count": null,
   "metadata": {},
   "outputs": [],
   "source": [
    "import pandas as pd    \n",
    "import numpy as np     \n",
    "import matplotlib.pyplot as plt \n",
    "import random  \n",
    "#import string    #string.ascii_letters"
   ]
  },
  {
   "cell_type": "markdown",
   "metadata": {},
   "source": [
    "### Paramètres"
   ]
  },
  {
   "cell_type": "code",
   "execution_count": null,
   "metadata": {},
   "outputs": [],
   "source": [
    "#Creer de la generecite pour l'ordre de la chaine de markov\n",
    "\n",
    "max_ord = 256 #acceptance threshold for unicode code\n",
    "markov_order = 1 #ordre de la chaine de markov (pour l'instant ne marche qu'avec 1, a generaliser)"
   ]
  },
  {
   "cell_type": "markdown",
   "metadata": {},
   "source": [
    "### Matrice des fréquences"
   ]
  },
  {
   "cell_type": "code",
   "execution_count": null,
   "metadata": {},
   "outputs": [],
   "source": [
    "mat_passage = np.zeros([max_ord]*(markov_order+1), dtype = \"int32\")\n",
    "First = np.zeros(max_ord)"
   ]
  },
  {
   "cell_type": "markdown",
   "metadata": {},
   "source": [
    "### Lecture fichier source"
   ]
  },
  {
   "cell_type": "code",
   "execution_count": null,
   "metadata": {},
   "outputs": [],
   "source": [
    "pokemon = \"pokemon_names.txt\"\n",
    "german = \"german_words.txt\"\n",
    "test = \"text.txt\"\n",
    "mobydick = \"mobydick.txt\"\n",
    "\n",
    "choice = pokemon\n",
    "\n",
    "flatten = lambda l: [item for sublist in l for item in sublist] #function to make a list of lists flatten\n",
    "\n",
    "def is_ascii(s,lim):\n",
    "    \"\"\"Test if the word s contains a character with a unicode code bigger than lim\"\"\"\n",
    "    return all(ord(c) < lim for c in s)\n",
    "\n",
    "def only_ascii(word,lim):\n",
    "    \"\"\"exclude non desired ascii characters from words\"\"\"\n",
    "    return ''.join([l for l in word if ord(l) < lim])\n",
    "\n",
    "def only_alpha(word):\n",
    "    \"\"\"exclude non  alpha ascii characters from words\"\"\"\n",
    "    return ''.join([l for l in word if l.isalpha()])\n",
    "\n",
    "\n",
    "#Voir plus tard comment gerer les problemes d'encodage de certain textes avec codecs\n",
    "with open (choice, \"r\") as myfile:\n",
    "    words = [only_alpha(w) for line in myfile.read().splitlines() for w in line.split(\" \") if len(only_alpha(w))>0]\n",
    "        \n",
    "#words = [w for w in words if is_ascii(w,max_ord)]\n",
    "words"
   ]
  },
  {
   "cell_type": "markdown",
   "metadata": {},
   "source": [
    "### Remplissage des fréquences"
   ]
  },
  {
   "cell_type": "code",
   "execution_count": null,
   "metadata": {},
   "outputs": [],
   "source": [
    "for w in words :\n",
    "    for i,l in enumerate(w):\n",
    "        if i==0: \n",
    "            First[ord(l)] += 1\n",
    "        else:\n",
    "            mat_passage[ord(w[i-1]),ord(l)] += 1\n",
    "            \n",
    "count = mat_passage.sum(axis=1)\n",
    "st = np.tile(count,len(count)).reshape(-1,len(count)).T\n",
    "p = mat_passage.astype('float')/st\n",
    "p[np.isnan(p)]=0\n",
    "\n",
    "#Pour analyser les occurences de symboles : {chr(i):j for i,j in enumerate(count)}"
   ]
  },
  {
   "cell_type": "markdown",
   "metadata": {},
   "source": [
    "### Visualisation : Ne marche pas pour le moment !!!"
   ]
  },
  {
   "cell_type": "code",
   "execution_count": null,
   "metadata": {},
   "outputs": [],
   "source": [
    "plt.pcolor(mat_passage, cmap=\"plasma\")\n",
    "plt.yticks(np.arange(0.5, maxi_size, 1), [chr(c) for c in range(maxi_size)])\n",
    "plt.xticks(np.arange(0.5, maxi_size, 1), [chr(c) for c in range(maxi_size)])\n",
    "plt.show()"
   ]
  },
  {
   "cell_type": "markdown",
   "metadata": {},
   "source": [
    "### Simulation "
   ]
  },
  {
   "cell_type": "code",
   "execution_count": null,
   "metadata": {},
   "outputs": [],
   "source": [
    "def generate(maxi_len):\n",
    "    \n",
    "    new_word = chr(random.choices(range(max_ord),weights=First, k=1)[0])\n",
    "\n",
    "    for i in range(maxi_len-1):\n",
    "        new_word += chr(random.choices(range(max_ord),weights=mat_passage[ord(new_word[i])], k=1)[0])\n",
    "    return new_word.capitalize()"
   ]
  },
  {
   "cell_type": "code",
   "execution_count": null,
   "metadata": {},
   "outputs": [],
   "source": [
    "maxi_size = 10\n",
    "rep = 5\n",
    "\n",
    "for m in range(3,maxi_size+1):\n",
    "    for n in range(rep):\n",
    "        print(generate(m))"
   ]
  },
  {
   "cell_type": "code",
   "execution_count": null,
   "metadata": {},
   "outputs": [],
   "source": []
  },
  {
   "cell_type": "code",
   "execution_count": null,
   "metadata": {},
   "outputs": [],
   "source": []
  },
  {
   "cell_type": "code",
   "execution_count": null,
   "metadata": {},
   "outputs": [],
   "source": []
  },
  {
   "cell_type": "markdown",
   "metadata": {},
   "source": [
    "### Amelioration\n",
    "\n",
    "- A partir de n'importe quel .txt, lire le fichier mot par mot, exclure les mots inutiles (techniques usuelles nlp ?)\n",
    "- Augmenter l'ordre de la chaine de Markov\n",
    "- Faire un interface plus interacrive\n",
    "- Ameliorer visualisation\n",
    "- generer du texte"
   ]
  },
  {
   "cell_type": "markdown",
   "metadata": {},
   "source": []
  },
  {
   "cell_type": "code",
   "execution_count": null,
   "metadata": {},
   "outputs": [],
   "source": []
  },
  {
   "cell_type": "code",
   "execution_count": null,
   "metadata": {},
   "outputs": [],
   "source": []
  },
  {
   "cell_type": "markdown",
   "metadata": {},
   "source": [
    "## Modification des dictionnaires science etonnante"
   ]
  },
  {
   "cell_type": "code",
   "execution_count": 34,
   "metadata": {},
   "outputs": [],
   "source": [
    "import re\n",
    "\n",
    "dic = \"FR.txt\"\n",
    "def clean_up(dic):\n",
    "    '''Return a list with all words in appropriate format'''\n",
    "    with open (\"./data/{}\".format(dic), \"r\") as myfile:\n",
    "        words =  myfile.read().splitlines()\n",
    "    reg = '^[a-zA-Z0-9_]+'\n",
    "    words2 = [re.findall(reg, w) for w in words if re.findall(reg, w)]\n",
    "    words2 = [w[0] for w in words2 if len(w[0])>1]\n",
    "    words2 = [w for w in words2 if w.islower()]\n",
    "    \n",
    "    return words2\n",
    "\n",
    "def write_new_dict(words, name):\n",
    "    '''Takes the ouput of clean_up and write the words in a new file'''\n",
    "    file = open(\"./data/{}\".format(name),\"w\") \n",
    "    for w in words:\n",
    "        file.write(w)\n",
    "        file.write(\"\\n\")\n",
    "    file.close() \n",
    "    \n",
    "    return \"Done\"\n",
    "    "
   ]
  },
  {
   "cell_type": "code",
   "execution_count": 35,
   "metadata": {},
   "outputs": [
    {
     "name": "stdout",
     "output_type": "stream",
     "text": [
      "EN.txt\n",
      "FR.txt\n",
      "SE.txt\n",
      "HU.txt\n"
     ]
    }
   ],
   "source": [
    "import os\n",
    "for dic in os.listdir(\"./data\"):\n",
    "    if \"New\" not in dic:\n",
    "        if \"ES\" not in dic:\n",
    "            if \"IT\" not in dic:\n",
    "                print(dic)\n",
    "                words = clean_up(dic)\n",
    "                write_new_dict(words, \"New\" + dic)"
   ]
  },
  {
   "cell_type": "code",
   "execution_count": 37,
   "metadata": {},
   "outputs": [
    {
     "data": {
      "text/plain": [
       "52776"
      ]
     },
     "execution_count": 37,
     "metadata": {},
     "output_type": "execute_result"
    }
   ],
   "source": [
    "len(words)"
   ]
  },
  {
   "cell_type": "markdown",
   "metadata": {},
   "source": [
    "## HeatMap"
   ]
  },
  {
   "cell_type": "code",
   "execution_count": 25,
   "metadata": {
    "ExecuteTime": {
     "end_time": "2018-11-29T09:03:09.174165Z",
     "start_time": "2018-11-29T09:03:08.549946Z"
    }
   },
   "outputs": [],
   "source": [
    "import pandas as pd\n",
    "import numpy as np \n",
    "import matplotlib.pyplot as plt"
   ]
  },
  {
   "cell_type": "code",
   "execution_count": 29,
   "metadata": {
    "ExecuteTime": {
     "end_time": "2018-11-29T09:05:24.550649Z",
     "start_time": "2018-11-29T09:05:24.535615Z"
    }
   },
   "outputs": [],
   "source": [
    "df = pd.read_csv(\"WordGenerator/Mat.txt\", sep=\";\", header=None)"
   ]
  },
  {
   "cell_type": "code",
   "execution_count": 39,
   "metadata": {
    "ExecuteTime": {
     "end_time": "2018-11-29T09:08:14.055216Z",
     "start_time": "2018-11-29T09:08:13.776331Z"
    }
   },
   "outputs": [
    {
     "data": {
      "image/png": "[encoded data removed]",
      "text/plain": [
       "<Figure size 576x576 with 1 Axes>"
      ]
     },
     "metadata": {},
     "output_type": "display_data"
    }
   ],
   "source": [
    "arr = np.array(df)\n",
    "arr[np.isnan(arr)] = 0\n",
    "alpha = 0.33\n",
    "p2Da = arr**alpha\n",
    "\n",
    "plt.figure(figsize=(8,8))\n",
    "plt.imshow(p2Da[97:123,97:123],interpolation='nearest', cmap=\"plasma\")\n",
    "plt.axis('off')\n",
    "\n",
    "for i in range(97,123):\n",
    "    plt.text(-1,i-97,chr(i),horizontalalignment='center',    #chr(97) = a, chr(122) = z\n",
    "                            verticalalignment='center')\n",
    "    plt.text(i-97,-1,chr(i),horizontalalignment='center',\n",
    "                            verticalalignment='center')\n",
    "#plt.savefig(proba_matrix)"
   ]
  },
  {
   "cell_type": "code",
   "execution_count": null,
   "metadata": {
    "ExecuteTime": {
     "end_time": "2018-11-29T09:07:03.204699Z",
     "start_time": "2018-11-29T09:07:03.192461Z"
    }
   },
   "outputs": [],
   "source": []
  },
  {
   "cell_type": "code",
   "execution_count": null,
   "metadata": {},
   "outputs": [],
   "source": []
  },
  {
   "cell_type": "code",
   "execution_count": null,
   "metadata": {},
   "outputs": [],
   "source": []
  },
  {
   "cell_type": "code",
   "execution_count": null,
   "metadata": {},
   "outputs": [],
   "source": []
  },
  {
   "cell_type": "code",
   "execution_count": null,
   "metadata": {},
   "outputs": [],
   "source": []
  },
  {
   "cell_type": "code",
   "execution_count": null,
   "metadata": {},
   "outputs": [],
   "source": []
  },
  {
   "cell_type": "code",
   "execution_count": null,
   "metadata": {},
   "outputs": [],
   "source": []
  }
 ],
 "metadata": {
  "kernelspec": {
   "display_name": "Python 3",
   "language": "python",
   "name": "python3"
  },
  "language_info": {
   "codemirror_mode": {
    "name": "ipython",
    "version": 2
   },
   "file_extension": ".py",
   "mimetype": "text/x-python",
   "name": "python",
   "nbconvert_exporter": "python",
   "pygments_lexer": "ipython2",
   "version": "2.7.15"
  },
  "latex_envs": {
   "LaTeX_envs_menu_present": true,
   "autoclose": false,
   "autocomplete": true,
   "bibliofile": "biblio.bib",
   "cite_by": "apalike",
   "current_citInitial": 1,
   "eqLabelWithNumbers": true,
   "eqNumInitial": 1,
   "hotkeys": {
    "equation": "Ctrl-E",
    "itemize": "Ctrl-I"
   },
   "labels_anchors": false,
   "latex_user_defs": false,
   "report_style_numbering": false,
   "user_envs_cfg": false
  },
  "toc": {
   "base_numbering": 1,
   "nav_menu": {},
   "number_sections": true,
   "sideBar": true,
   "skip_h1_title": false,
   "title_cell": "Table of Contents",
   "title_sidebar": "Contents",
   "toc_cell": false,
   "toc_position": {},
   "toc_section_display": true,
   "toc_window_display": false
  },
  "varInspector": {
   "cols": {
    "lenName": 16,
    "lenType": 16,
    "lenVar": 40
   },
   "kernels_config": {
    "python": {
     "delete_cmd_postfix": "",
     "delete_cmd_prefix": "del ",
     "library": "var_list.py",
     "varRefreshCmd": "print(var_dic_list())"
    },
    "r": {
     "delete_cmd_postfix": ") ",
     "delete_cmd_prefix": "rm(",
     "library": "var_list.r",
     "varRefreshCmd": "cat(var_dic_list()) "
    }
   },
   "types_to_exclude": [
    "module",
    "function",
    "builtin_function_or_method",
    "instance",
    "_Feature"
   ],
   "window_display": false
  }
 },
 "nbformat": 4,
 "nbformat_minor": 2
}
